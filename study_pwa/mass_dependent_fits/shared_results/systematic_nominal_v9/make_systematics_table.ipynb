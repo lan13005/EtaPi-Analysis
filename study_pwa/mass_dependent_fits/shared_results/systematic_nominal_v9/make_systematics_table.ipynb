{
 "cells": [
  {
   "cell_type": "code",
   "execution_count": 244,
   "metadata": {},
   "outputs": [
    {
     "data": {
      "text/html": [
       "<style>#notebook { padding-top:0px !important; } .container { width:100% !important; } .end_space { min-height:0px !important; } </style>"
      ],
      "text/plain": [
       "<IPython.core.display.HTML object>"
      ]
     },
     "metadata": {},
     "output_type": "display_data"
    }
   ],
   "source": [
    "import hiplot as hip\n",
    "import pandas as pd\n",
    "import matplotlib.pyplot as plt\n",
    "import uproot3 as uproot\n",
    "import matplotlib as mpl\n",
    "mpl.rcParams['figure.dpi'] = 200\n",
    "import random\n",
    "import numpy as np\n",
    "max=np.max\n",
    "import seaborn as sns\n",
    "from sklearn.decomposition import PCA\n",
    "import os\n",
    "import sys\n",
    "from scipy.optimize import curve_fit\n",
    "from scipy.integrate import quad\n",
    "\n",
    "import mplhep as hep\n",
    "mpl.rcParams.update(mpl.rcParamsDefault)\n",
    "plt.style.use([hep.styles.ATLAS])\n",
    "# mpl.rcParams['mathtext.fontset'] = 'stix'\n",
    "# mpl.rcParams['font.family'] = 'STIXGeneral'\n",
    "\n",
    "from IPython.core.display import display, HTML\n",
    "display(HTML(\n",
    "    '<style>'\n",
    "        '#notebook { padding-top:0px !important; } ' \n",
    "        '.container { width:100% !important; } '\n",
    "        '.end_space { min-height:0px !important; } '\n",
    "    '</style>'\n",
    "))\n",
    "\n",
    "SMALL_SIZE = 20\n",
    "MEDIUM_SIZE = 22\n",
    "BIGGER_SIZE = 24\n",
    "\n",
    "plt.rc('font', size=SMALL_SIZE)          # controls default text sizes\n",
    "plt.rc('axes', titlesize=SMALL_SIZE)     # fontsize of the axes title\n",
    "plt.rc('axes', labelsize=MEDIUM_SIZE)    # fontsize of the x and y labels\n",
    "plt.rc('xtick', labelsize=SMALL_SIZE)    # fontsize of the tick labels\n",
    "plt.rc('ytick', labelsize=SMALL_SIZE)    # fontsize of the tick labels\n",
    "plt.rc('legend', fontsize=17)    # legend fontsize\n",
    "plt.rc('figure', titlesize=BIGGER_SIZE)  # fontsize of the figure title\n",
    "\n",
    "%matplotlib inline"
   ]
  },
  {
   "cell_type": "markdown",
   "metadata": {},
   "source": [
    "### Load Barlow CSV"
   ]
  },
  {
   "cell_type": "code",
   "execution_count": 252,
   "metadata": {},
   "outputs": [],
   "source": [
    "floc='/d/grid17/ln16/dselector_v3/study_pwa/mass_dependent_fits/shared_results/systematic_nominal_v9/systematic_v24/SOURCE/systematic_syst/barlows.csv'"
   ]
  },
  {
   "cell_type": "code",
   "execution_count": 253,
   "metadata": {},
   "outputs": [],
   "source": [
    "df=pd.read_csv(floc,dtype={'tbin':str})"
   ]
  },
  {
   "cell_type": "code",
   "execution_count": 254,
   "metadata": {},
   "outputs": [],
   "source": [
    "variations=df.variation.unique()"
   ]
  },
  {
   "cell_type": "code",
   "execution_count": 255,
   "metadata": {},
   "outputs": [],
   "source": [
    "df['posDiff']=df['posVar']-df['posNom']\n",
    "df['negDiff']=df['negVar']-df['negNom']"
   ]
  },
  {
   "cell_type": "code",
   "execution_count": 256,
   "metadata": {},
   "outputs": [],
   "source": [
    "prettyNames={\n",
    "                'posNom':'Nom.',\n",
    "                'posDiff':'(+)Diff. [nb]',\n",
    "                'nBarlowPos':r'(+)$N_{Barlow}$',\n",
    "                'negNom':'Nom.',\n",
    "                'negDiff':'(-)Diff. [nb]',\n",
    "                'nBarlowNeg':r'$(-)N_{Barlow}$',\n",
    "                'variation':'Variation',\n",
    "                't':r'$-t~\\text{GeV}^2$',\n",
    "            }\n",
    "\n",
    "output_df=df[['t','variation','posNom','posDiff','nBarlowPos','negNom','negDiff','nBarlowNeg']]"
   ]
  },
  {
   "cell_type": "code",
   "execution_count": 262,
   "metadata": {},
   "outputs": [
    {
     "name": "stdout",
     "output_type": "stream",
     "text": [
      "\\begin{tabular}{llrrrr}\n",
      "\\toprule\n",
      "$-t~\\text{GeV}^2$ &                   Variation &  (+)Diff. [nb] &  (+)$N_{Barlow}$ &  (-)Diff. [nb] &  $(-)N_{Barlow}$ \\\\\n",
      "\\midrule\n",
      "     $0.1<-t<0.2$ &  $|P_{\\gamma}|$ lower limit &        0.00063 &          0.04356 &        0.00047 &          0.04475 \\\\\n",
      "     $0.1<-t<0.2$ &  $|P_{\\gamma}|$ upper limit &       -0.00043 &          0.03098 &       -0.00016 &          0.01590 \\\\\n",
      "     $0.1<-t<0.2$ &      $\\phi_{\\gamma}$ offset &       -0.00169 &          0.12035 &       -0.00086 &          0.08653 \\\\\n",
      "     $0.1<-t<0.2$ &      $1.04<M(\\eta\\pi)<1.68$ &       -0.00325 &          0.23216 &        0.00413 &          0.35772 \\\\\n",
      "     $0.1<-t<0.2$ &      $1.04<M(\\eta\\pi)<1.64$ &       -0.00008 &          0.00535 &        0.00356 &          0.26227 \\\\\n",
      "     $0.1<-t<0.2$ &      $1.04<M(\\eta\\pi)<1.60$ &       -0.00383 &          0.23984 &        0.00015 &          0.01126 \\\\\n",
      "     $0.1<-t<0.2$ &          pcwsBinWidth 20MeV &        0.01460 &          0.97553 &        0.00842 &          0.78260 \\\\\n",
      "     $0.1<-t<0.2$ &         $a_2(1320)$ loose M &       -0.00039 &          0.02799 &       -0.00097 &          0.09716 \\\\\n",
      "     $0.1<-t<0.2$ &  $a_2(1320)$ loose $\\Gamma$ &        0.00946 &          0.60012 &        0.00866 &          0.77614 \\\\\n",
      "     $0.1<-t<0.2$ &    $a_2(1320)$ loose params &        0.00872 &          0.54163 &        0.00762 &          0.68253 \\\\\n",
      "     $0.1<-t<0.2$ &         $a_2(1700)$ loose M &        0.00645 &          0.43233 &        0.00754 &          0.64454 \\\\\n",
      "     $0.1<-t<0.2$ &  $a_2(1700)$ loose $\\Gamma$ &       -0.00862 &          0.54325 &        0.01447 &          0.93987 \\\\\n",
      "     $0.1<-t<0.2$ &    $a_2(1700)$ loose params &       -0.00492 &          0.32990 &        0.02479 &          1.57843 \\\\\n",
      "   $0.2<-t<0.325$ &  $|P_{\\gamma}|$ lower limit &        0.00042 &          0.05828 &        0.00052 &          0.14089 \\\\\n",
      "   $0.2<-t<0.325$ &  $|P_{\\gamma}|$ upper limit &       -0.00033 &          0.03992 &       -0.00047 &          0.11574 \\\\\n",
      "   $0.2<-t<0.325$ &      $\\phi_{\\gamma}$ offset &        0.00045 &          0.05490 &        0.00106 &          0.27853 \\\\\n",
      "   $0.2<-t<0.325$ &      $1.04<M(\\eta\\pi)<1.68$ &        0.00065 &          0.08858 &        0.00035 &          0.10265 \\\\\n",
      "   $0.2<-t<0.325$ &      $1.04<M(\\eta\\pi)<1.64$ &       -0.00037 &          0.04828 &       -0.00775 &          2.48432 \\\\\n",
      "   $0.2<-t<0.325$ &      $1.04<M(\\eta\\pi)<1.60$ &       -0.00790 &          1.09108 &       -0.00668 &          2.03299 \\\\\n",
      "   $0.2<-t<0.325$ &          pcwsBinWidth 20MeV &        0.01449 &          1.70109 &        0.01168 &          2.17164 \\\\\n",
      "   $0.2<-t<0.325$ &         $a_2(1320)$ loose M &        0.00027 &          0.03712 &       -0.00002 &          0.00470 \\\\\n",
      "   $0.2<-t<0.325$ &  $a_2(1320)$ loose $\\Gamma$ &        0.00235 &          0.29948 &        0.00120 &          0.32403 \\\\\n",
      "   $0.2<-t<0.325$ &    $a_2(1320)$ loose params &        0.00232 &          0.29085 &        0.00122 &          0.32063 \\\\\n",
      "   $0.2<-t<0.325$ &         $a_2(1700)$ loose M &        0.00008 &          0.01034 &       -0.00009 &          0.02268 \\\\\n",
      "   $0.2<-t<0.325$ &  $a_2(1700)$ loose $\\Gamma$ &        0.00286 &          0.34027 &        0.01051 &          1.68237 \\\\\n",
      "   $0.2<-t<0.325$ &    $a_2(1700)$ loose params &        0.00540 &          0.60316 &        0.01321 &          1.99509 \\\\\n",
      "   $0.325<-t<0.5$ &  $|P_{\\gamma}|$ lower limit &        0.00002 &          0.00774 &        0.00016 &          0.05770 \\\\\n",
      "   $0.325<-t<0.5$ &  $|P_{\\gamma}|$ upper limit &       -0.00003 &          0.01212 &       -0.00016 &          0.06590 \\\\\n",
      "   $0.325<-t<0.5$ &      $\\phi_{\\gamma}$ offset &        0.00005 &          0.01928 &       -0.00043 &          0.18606 \\\\\n",
      "   $0.325<-t<0.5$ &      $1.04<M(\\eta\\pi)<1.68$ &       -0.00033 &          0.15125 &        0.00075 &          0.27197 \\\\\n",
      "   $0.325<-t<0.5$ &      $1.04<M(\\eta\\pi)<1.64$ &       -0.00077 &          0.33370 &        0.00278 &          0.81083 \\\\\n",
      "   $0.325<-t<0.5$ &      $1.04<M(\\eta\\pi)<1.60$ &        0.00051 &          0.17853 &        0.00291 &          0.85604 \\\\\n",
      "   $0.325<-t<0.5$ &          pcwsBinWidth 20MeV &        0.00544 &          1.82480 &        0.00186 &          0.71900 \\\\\n",
      "   $0.325<-t<0.5$ &         $a_2(1320)$ loose M &        0.00044 &          0.15775 &        0.00072 &          0.23758 \\\\\n",
      "   $0.325<-t<0.5$ &  $a_2(1320)$ loose $\\Gamma$ &        0.00088 &          0.28193 &        0.00101 &          0.31651 \\\\\n",
      "   $0.325<-t<0.5$ &    $a_2(1320)$ loose params &        0.00125 &          0.41354 &        0.00162 &          0.48576 \\\\\n",
      "   $0.325<-t<0.5$ &         $a_2(1700)$ loose M &        0.00034 &          0.14481 &        0.00076 &          0.34624 \\\\\n",
      "   $0.325<-t<0.5$ &  $a_2(1700)$ loose $\\Gamma$ &       -0.00146 &          0.66125 &        0.00199 &          0.73958 \\\\\n",
      "   $0.325<-t<0.5$ &    $a_2(1700)$ loose params &       -0.00146 &          0.55284 &        0.00189 &          0.63212 \\\\\n",
      "    $0.5<-t<0.75$ &  $|P_{\\gamma}|$ lower limit &        0.00004 &          0.00961 &        0.00006 &          0.04156 \\\\\n",
      "    $0.5<-t<0.75$ &  $|P_{\\gamma}|$ upper limit &       -0.00003 &          0.00897 &       -0.00007 &          0.04712 \\\\\n",
      "    $0.5<-t<0.75$ &      $\\phi_{\\gamma}$ offset &       -0.00053 &          0.14644 &        0.00014 &          0.10847 \\\\\n",
      "    $0.5<-t<0.75$ &      $1.04<M(\\eta\\pi)<1.68$ &       -0.00254 &          0.71454 &       -0.00005 &          0.03385 \\\\\n",
      "    $0.5<-t<0.75$ &      $1.04<M(\\eta\\pi)<1.64$ &       -0.00276 &          0.79843 &        0.00006 &          0.04595 \\\\\n",
      "    $0.5<-t<0.75$ &      $1.04<M(\\eta\\pi)<1.60$ &       -0.00092 &          0.24864 &       -0.00020 &          0.12158 \\\\\n",
      "    $0.5<-t<0.75$ &          pcwsBinWidth 20MeV &       -0.00167 &          0.41072 &        0.00128 &          0.61897 \\\\\n",
      "    $0.5<-t<0.75$ &         $a_2(1320)$ loose M &       -0.00001 &          0.00336 &       -0.00001 &          0.00450 \\\\\n",
      "    $0.5<-t<0.75$ &  $a_2(1320)$ loose $\\Gamma$ &        0.00266 &          0.62950 &        0.00037 &          0.24946 \\\\\n",
      "    $0.5<-t<0.75$ &    $a_2(1320)$ loose params &        0.00267 &          0.63083 &        0.00037 &          0.25098 \\\\\n",
      "    $0.5<-t<0.75$ &         $a_2(1700)$ loose M &       -0.00013 &          0.03816 &       -0.00011 &          0.07221 \\\\\n",
      "    $0.5<-t<0.75$ &  $a_2(1700)$ loose $\\Gamma$ &        0.00078 &          0.20396 &        0.00016 &          0.11036 \\\\\n",
      "    $0.5<-t<0.75$ &    $a_2(1700)$ loose params &        0.00061 &          0.16758 &        0.00005 &          0.03403 \\\\\n",
      "    $0.75<-t<1.0$ &  $|P_{\\gamma}|$ lower limit &        0.00001 &          0.01205 &        0.00006 &          0.04800 \\\\\n",
      "    $0.75<-t<1.0$ &  $|P_{\\gamma}|$ upper limit &       -0.00002 &          0.01084 &       -0.00007 &          0.05041 \\\\\n",
      "    $0.75<-t<1.0$ &      $\\phi_{\\gamma}$ offset &       -0.00016 &          0.12517 &       -0.00017 &          0.12131 \\\\\n",
      "    $0.75<-t<1.0$ &      $1.04<M(\\eta\\pi)<1.68$ &        0.00029 &          0.23063 &       -0.00057 &          0.41173 \\\\\n",
      "    $0.75<-t<1.0$ &      $1.04<M(\\eta\\pi)<1.64$ &        0.00054 &          0.39151 &       -0.00078 &          0.58518 \\\\\n",
      "    $0.75<-t<1.0$ &      $1.04<M(\\eta\\pi)<1.60$ &       -0.00061 &          0.49789 &       -0.00086 &          0.63049 \\\\\n",
      "    $0.75<-t<1.0$ &          pcwsBinWidth 20MeV &       -0.00019 &          0.14949 &       -0.00053 &          0.39649 \\\\\n",
      "    $0.75<-t<1.0$ &         $a_2(1320)$ loose M &        0.00000 &          0.00066 &       -0.00015 &          0.11725 \\\\\n",
      "    $0.75<-t<1.0$ &  $a_2(1320)$ loose $\\Gamma$ &       -0.00002 &          0.01366 &       -0.00004 &          0.02385 \\\\\n",
      "    $0.75<-t<1.0$ &    $a_2(1320)$ loose params &       -0.00006 &          0.04918 &       -0.00028 &          0.20437 \\\\\n",
      "    $0.75<-t<1.0$ &         $a_2(1700)$ loose M &       -0.00006 &          0.05025 &       -0.00013 &          0.09471 \\\\\n",
      "    $0.75<-t<1.0$ &  $a_2(1700)$ loose $\\Gamma$ &       -0.00045 &          0.35449 &        0.00062 &          0.37843 \\\\\n",
      "    $0.75<-t<1.0$ &    $a_2(1700)$ loose params &       -0.00053 &          0.42259 &        0.00042 &          0.25850 \\\\\n",
      "\\bottomrule\n",
      "\\end{tabular}\n",
      "\n"
     ]
    }
   ],
   "source": [
    "ts=output_df.t.unique()\n",
    "threshold=0\n",
    "\n",
    "tmp=output_df[((output_df.nBarlowPos.abs()>threshold)|(output_df.nBarlowNeg.abs()>threshold))].reset_index(drop=True)\n",
    "pos=tmp.posNom.unique()[0]\n",
    "neg=tmp.negNom.unique()[0]\n",
    "tmp=tmp.drop(['posNom','negNom'],axis=1)\n",
    "\n",
    "# Clean up the variable names\n",
    "tmap={k:v for k,v in zip(tmp.t.unique(), [r'$0.1<-t<0.2$',r'$0.2<-t<0.325$',r'$0.325<-t<0.5$',r'$0.5<-t<0.75$',r'$0.75<-t<1.0$'])}\n",
    "tmp.t=tmp.t.map(tmap)\n",
    "tmp=tmp.rename(columns=prettyNames)\n",
    "\n",
    "print(tmp.to_latex(escape=False,index=False))"
   ]
  },
  {
   "cell_type": "code",
   "execution_count": 266,
   "metadata": {},
   "outputs": [
    {
     "name": "stdout",
     "output_type": "stream",
     "text": [
      "['polarization' 'fitrange' 'pcws_width' 'bw_param']\n",
      "0.0017 & 0.0004 & 0.0001 & 0.0005 & 0.0001 & \n",
      "0.0009 & 0.0011 & 0.0004 & 0.0001 & 0.0002 & \n",
      "0.0038 & 0.0079 & 0.0008 & 0.0028 & 0.0006 & \n",
      "0.0041 & 0.0077 & 0.0029 & 0.0002 & 0.0009 & \n",
      "0.0146 & 0.0145 & 0.0054 & 0.0017 & 0.0002 & \n",
      "0.0084 & 0.0117 & 0.0019 & 0.0013 & 0.0005 & \n",
      "0.0095 & 0.0054 & 0.0015 & 0.0027 & 0.0005 & \n",
      "0.0248 & 0.0132 & 0.0020 & 0.0004 & 0.0006 & \n"
     ]
    }
   ],
   "source": [
    "df['absDiffPos']=df['diffPos'].abs()\n",
    "df['absDiffNeg']=df['diffNeg'].abs()\n",
    "\n",
    "print(df['class'].unique())\n",
    "\n",
    "for classChoice in df['class'].unique():\n",
    "    for t in df.tbin.unique():\n",
    "        significantPos=df[(abs(df['nBarlowPos'])>threshold)&(df['tbin']==t)]\n",
    "        significantPos=significantPos.loc[significantPos['class']==classChoice,'absDiffPos'].max()\n",
    "        significantPos=0 if np.isnan(significantPos) else significantPos\n",
    "        print(f'{significantPos:0.4f}',end=' & ')\n",
    "    print()\n",
    "    for t in df.tbin.unique():\n",
    "        significantNeg=df[(abs(df['nBarlowNeg'])>threshold)&(df['tbin']==t)]\n",
    "        significantNeg=significantNeg.loc[significantNeg['class']==classChoice,'absDiffNeg'].max()\n",
    "        significantNeg=0 if np.isnan(significantNeg) else significantNeg\n",
    "        print(f'{significantNeg:0.4f}',end=' & ')\n",
    "    print()\n"
   ]
  },
  {
   "cell_type": "code",
   "execution_count": 229,
   "metadata": {},
   "outputs": [
    {
     "name": "stdout",
     "output_type": "stream",
     "text": [
      "['0.0191', '0.0000', '0.0033', '0.0027', '0.0009']\n"
     ]
    }
   ],
   "source": [
    "print(significantPosList)"
   ]
  },
  {
   "cell_type": "code",
   "execution_count": 228,
   "metadata": {},
   "outputs": [
    {
     "data": {
      "text/plain": [
       "['0.0344', '0.0024', '0.0000', '0.0000', '0.0000']"
      ]
     },
     "execution_count": 228,
     "metadata": {},
     "output_type": "execute_result"
    }
   ],
   "source": [
    "significantNegList"
   ]
  },
  {
   "cell_type": "code",
   "execution_count": 285,
   "metadata": {},
   "outputs": [
    {
     "data": {
      "text/plain": [
       "0.15835"
      ]
     },
     "execution_count": 285,
     "metadata": {},
     "output_type": "execute_result"
    }
   ],
   "source": [
    "df.loc[df.tbin=='010020','posNom'].iloc[0]"
   ]
  },
  {
   "cell_type": "code",
   "execution_count": null,
   "metadata": {},
   "outputs": [],
   "source": []
  }
 ],
 "metadata": {
  "kernelspec": {
   "display_name": "Python 3",
   "language": "python",
   "name": "python3"
  },
  "language_info": {
   "codemirror_mode": {
    "name": "ipython",
    "version": 3
   },
   "file_extension": ".py",
   "mimetype": "text/x-python",
   "name": "python",
   "nbconvert_exporter": "python",
   "pygments_lexer": "ipython3",
   "version": "3.6.8"
  }
 },
 "nbformat": 4,
 "nbformat_minor": 2
}
