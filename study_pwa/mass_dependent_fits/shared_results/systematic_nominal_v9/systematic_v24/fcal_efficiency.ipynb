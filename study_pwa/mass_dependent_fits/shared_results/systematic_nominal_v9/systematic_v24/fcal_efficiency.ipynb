{
 "cells": [
  {
   "cell_type": "code",
   "execution_count": 19,
   "metadata": {},
   "outputs": [
    {
     "data": {
      "text/html": [
       "<style>#notebook { padding-top:0px !important; } .container { width:100% !important; } .end_space { min-height:0px !important; } </style>"
      ],
      "text/plain": [
       "<IPython.core.display.HTML object>"
      ]
     },
     "metadata": {},
     "output_type": "display_data"
    }
   ],
   "source": [
    "import hiplot as hip\n",
    "import pandas as pd\n",
    "import matplotlib.pyplot as plt\n",
    "import uproot3 as uproot\n",
    "import matplotlib as mpl\n",
    "mpl.rcParams['figure.dpi'] = 200\n",
    "import random\n",
    "import numpy as np\n",
    "max=np.max\n",
    "import seaborn as sns\n",
    "from sklearn.decomposition import PCA\n",
    "import os\n",
    "import sys\n",
    "from scipy.optimize import curve_fit\n",
    "from scipy.integrate import quad\n",
    "\n",
    "import mplhep as hep\n",
    "mpl.rcParams.update(mpl.rcParamsDefault)\n",
    "plt.style.use([hep.styles.ATLAS])\n",
    "# mpl.rcParams['mathtext.fontset'] = 'stix'\n",
    "# mpl.rcParams['font.family'] = 'STIXGeneral'\n",
    "\n",
    "from IPython.core.display import display, HTML\n",
    "display(HTML(\n",
    "    '<style>'\n",
    "        '#notebook { padding-top:0px !important; } ' \n",
    "        '.container { width:100% !important; } '\n",
    "        '.end_space { min-height:0px !important; } '\n",
    "    '</style>'\n",
    "))\n",
    "\n",
    "SMALL_SIZE = 20\n",
    "MEDIUM_SIZE = 22\n",
    "BIGGER_SIZE = 24\n",
    "\n",
    "plt.rc('font', size=SMALL_SIZE)          # controls default text sizes\n",
    "plt.rc('axes', titlesize=SMALL_SIZE)     # fontsize of the axes title\n",
    "plt.rc('axes', labelsize=MEDIUM_SIZE)    # fontsize of the x and y labels\n",
    "plt.rc('xtick', labelsize=SMALL_SIZE)    # fontsize of the tick labels\n",
    "plt.rc('ytick', labelsize=SMALL_SIZE)    # fontsize of the tick labels\n",
    "plt.rc('legend', fontsize=17)    # legend fontsize\n",
    "plt.rc('figure', titlesize=BIGGER_SIZE)  # fontsize of the figure title\n",
    "\n",
    "%matplotlib inline"
   ]
  },
  {
   "cell_type": "markdown",
   "metadata": {},
   "source": [
    "# Method 1"
   ]
  },
  {
   "cell_type": "code",
   "execution_count": 77,
   "metadata": {},
   "outputs": [],
   "source": [
    "floc='/d/grid17/ln16/dselector_v3/study_pwa/mass_dependent_fits/shared_results/systematic_nominal_v9/systematic_v24/SOURCE_FcalBcal/systematic_syst/barlows.csv'"
   ]
  },
  {
   "cell_type": "code",
   "execution_count": 78,
   "metadata": {},
   "outputs": [],
   "source": [
    "df=pd.read_csv(floc)"
   ]
  },
  {
   "cell_type": "code",
   "execution_count": 79,
   "metadata": {},
   "outputs": [
    {
     "data": {
      "text/plain": [
       "Index(['tbin', 't', 'variation', 'class', 'posNom', 'negNom', 'posVar',\n",
       "       'negVar', 'nBarlowPos', 'diffPos', 'percDiffPos', 'nBarlowNeg',\n",
       "       'diffNeg', 'percDiffNeg', 'yields', 'status'],\n",
       "      dtype='object')"
      ]
     },
     "execution_count": 79,
     "metadata": {},
     "output_type": "execute_result"
    }
   ],
   "source": [
    "df.columns"
   ]
  },
  {
   "cell_type": "code",
   "execution_count": 80,
   "metadata": {},
   "outputs": [],
   "source": [
    "df['t']=df['t'].astype(str)"
   ]
  },
  {
   "cell_type": "code",
   "execution_count": 81,
   "metadata": {},
   "outputs": [],
   "source": [
    "pos=df[['t','variation','nBarlowPos','percDiffPos']].groupby('t')['percDiffPos'].agg([max]).reset_index()"
   ]
  },
  {
   "cell_type": "code",
   "execution_count": 82,
   "metadata": {},
   "outputs": [],
   "source": [
    "neg=df[['t','variation','nBarlowNeg','percDiffNeg']].groupby('t')['percDiffNeg'].agg([max]).reset_index()"
   ]
  },
  {
   "cell_type": "code",
   "execution_count": 83,
   "metadata": {},
   "outputs": [],
   "source": [
    "pos=pos.rename({'amax':'pos'},axis=1)\n",
    "pos['neg']=neg['amax']"
   ]
  },
  {
   "cell_type": "code",
   "execution_count": 84,
   "metadata": {},
   "outputs": [
    {
     "data": {
      "text/html": [
       "<div>\n",
       "<style scoped>\n",
       "    .dataframe tbody tr th:only-of-type {\n",
       "        vertical-align: middle;\n",
       "    }\n",
       "\n",
       "    .dataframe tbody tr th {\n",
       "        vertical-align: top;\n",
       "    }\n",
       "\n",
       "    .dataframe thead th {\n",
       "        text-align: right;\n",
       "    }\n",
       "</style>\n",
       "<table border=\"1\" class=\"dataframe\">\n",
       "  <thead>\n",
       "    <tr style=\"text-align: right;\">\n",
       "      <th></th>\n",
       "      <th>t</th>\n",
       "      <th>pos</th>\n",
       "      <th>neg</th>\n",
       "    </tr>\n",
       "  </thead>\n",
       "  <tbody>\n",
       "    <tr>\n",
       "      <th>0</th>\n",
       "      <td>0.1501</td>\n",
       "      <td>0.09613</td>\n",
       "      <td>0.11815</td>\n",
       "    </tr>\n",
       "    <tr>\n",
       "      <th>1</th>\n",
       "      <td>0.256</td>\n",
       "      <td>0.09791</td>\n",
       "      <td>0.13287</td>\n",
       "    </tr>\n",
       "    <tr>\n",
       "      <th>2</th>\n",
       "      <td>0.4038</td>\n",
       "      <td>0.09885</td>\n",
       "      <td>0.09342</td>\n",
       "    </tr>\n",
       "    <tr>\n",
       "      <th>3</th>\n",
       "      <td>0.6198</td>\n",
       "      <td>0.07760</td>\n",
       "      <td>0.09350</td>\n",
       "    </tr>\n",
       "    <tr>\n",
       "      <th>4</th>\n",
       "      <td>0.8691</td>\n",
       "      <td>0.09982</td>\n",
       "      <td>0.10951</td>\n",
       "    </tr>\n",
       "  </tbody>\n",
       "</table>\n",
       "</div>"
      ],
      "text/plain": [
       "        t      pos      neg\n",
       "0  0.1501  0.09613  0.11815\n",
       "1   0.256  0.09791  0.13287\n",
       "2  0.4038  0.09885  0.09342\n",
       "3  0.6198  0.07760  0.09350\n",
       "4  0.8691  0.09982  0.10951"
      ]
     },
     "execution_count": 84,
     "metadata": {},
     "output_type": "execute_result"
    }
   ],
   "source": [
    "pos"
   ]
  },
  {
   "cell_type": "markdown",
   "metadata": {},
   "source": [
    "# Method 2"
   ]
  },
  {
   "cell_type": "code",
   "execution_count": 29,
   "metadata": {},
   "outputs": [],
   "source": [
    "def loadDF(fileName,treeName,cols):\n",
    "    ''' Function to load a root file '''\n",
    "    tree=uproot.open(fileName)[treeName]\n",
    "    df=tree.arrays(cols,outputtype=pd.DataFrame).reset_index(drop=True)\n",
    "    return df"
   ]
  },
  {
   "cell_type": "code",
   "execution_count": 30,
   "metadata": {},
   "outputs": [],
   "source": [
    "cols=[\"Mpi0eta\",\"Meta\",\"Mpi0\",\"mandelstam_t\",\"Ebeam\",\n",
    "      'cosTheta_eta_hel','cosTheta_eta_gj',\n",
    "       \"weightASBS\",\"AccWeight\",\"weightBSpi0\",\"weightBSeta\",\n",
    "       \"Metap\",\"Mpi0p\",'rfTime',\n",
    "      'proton_z','proton_momentum','unusedEnergy','unusedShowers','pVH','chiSq','photonTheta1','photonTheta2','photonTheta3','photonTheta4',\n",
    "      'photonE1','photonE2','photonE3','photonE4','mmsq',\n",
    "      'run','event',\n",
    "      'Ebeam_thrown','Mpi0eta_thrown',\n",
    "      'isCorrectBeam','isCorrectSpect','isCorrectCombo',\n",
    "      'photonSystem1','photonSystem2','photonSystem3','photonSystem4'\n",
    "     ]\n",
    "\n",
    "baseDir='/d/grid17/ln16/dselector_v3/phase1_selected_v4'\n",
    "dat_df=[]\n",
    "acc_df=[]\n",
    "for run in [\"2017_1\",\"2018_1\",\"2018_8\"]:\n",
    "    dat_df.append(loadDF(f\"{baseDir}/D{run}_selected_wUnusedShowers_acc_flat.root\",\"kin\",cols))\n",
    "    acc_df.append(loadDF(f\"{baseDir}/F{run}_selected_wUnusedShowers_acc_flat.root\",\"kin\",cols))\n",
    "dat_df=pd.concat(dat_df)\n",
    "acc_df=pd.concat(acc_df)"
   ]
  },
  {
   "cell_type": "code",
   "execution_count": 33,
   "metadata": {},
   "outputs": [],
   "source": [
    "def applyCut(df,sectionStr):\n",
    "    tmp=df\n",
    "    vars1=sectionStr.split(\" \")[::3]\n",
    "    mins1=[float(x) for x in sectionStr.split(\" \")[1::3]]\n",
    "    maxs1=[float(x) for x in sectionStr.split(\" \")[2::3]]\n",
    "    \n",
    "    for var1,min1,max1 in zip(vars1,mins1,maxs1):\n",
    "        if var1[0]=='!':\n",
    "            var1=var1[1:]\n",
    "            tmp=tmp[~((tmp[var1]>min1)&(tmp[var1]<max1))]\n",
    "        else:\n",
    "            tmp=tmp[((tmp[var1]>min1)&(tmp[var1]<max1))]\n",
    "    return tmp\n",
    "\n",
    "selection='Mpi0eta 1.04 1.72 pVH 0.5 999 mandelstam_t 0.1 1.0 !photonTheta1 -999 2.5 !photonTheta1 10.3 11.9 !photonTheta2 -999 2.5 !photonTheta2 10.3 11.9 \\\n",
    "!photonTheta3 -999 2.5 !photonTheta3 10.3 11.9 !photonTheta4 -999 2.5 !photonTheta4 10.3 11.9 \\\n",
    "chiSq -999 13.277 unusedEnergy -999 1.0 \\\n",
    "photonE1 0.1 999 photonE2 0.1 999 photonE3 0.1 999 photonE4 0.1 999 \\\n",
    "proton_momentum 0.3 999 proton_z 52 78 mmsq -0.05 0.05'\n",
    "\n",
    "dat_df_2=dat_df\n",
    "dat_df_2=applyCut(dat_df_2,selection)\n",
    "acc_df_2=acc_df\n",
    "acc_df_2=applyCut(acc_df_2,selection)"
   ]
  },
  {
   "cell_type": "code",
   "execution_count": 34,
   "metadata": {},
   "outputs": [],
   "source": [
    "systemMap={32.0:'F',4.0:'B'}\n",
    "effMap={'F':1.03,'B':1.05}"
   ]
  },
  {
   "cell_type": "code",
   "execution_count": 35,
   "metadata": {},
   "outputs": [],
   "source": [
    "dat_df_2.photonSystem1=dat_df_2.photonSystem1.map(systemMap)\n",
    "dat_df_2.photonSystem2=dat_df_2.photonSystem2.map(systemMap)\n",
    "dat_df_2.photonSystem3=dat_df_2.photonSystem3.map(systemMap)\n",
    "dat_df_2.photonSystem4=dat_df_2.photonSystem4.map(systemMap)"
   ]
  },
  {
   "cell_type": "code",
   "execution_count": 36,
   "metadata": {},
   "outputs": [],
   "source": [
    "fcal_bcal_counts=(dat_df_2.photonSystem1.astype(str)+dat_df_2.photonSystem2.astype(str)+dat_df_2.photonSystem3.astype(str)+dat_df_2.photonSystem4.astype(str)).value_counts()"
   ]
  },
  {
   "cell_type": "code",
   "execution_count": 43,
   "metadata": {},
   "outputs": [
    {
     "name": "stdout",
     "output_type": "stream",
     "text": [
      "FFFB efficiency = 0.1030\n",
      "FFBF efficiency = 0.1030\n",
      "FFBB efficiency = 0.1166\n",
      "BBFF efficiency = 0.1166\n",
      "BBBF efficiency = 0.1530\n",
      "BBFB efficiency = 0.1530\n",
      "FBFF efficiency = 0.1030\n",
      "BFFF efficiency = 0.1030\n",
      "FBFB efficiency = 0.1166\n",
      "FBBF efficiency = 0.1166\n",
      "BFFB efficiency = 0.1166\n",
      "BFBF efficiency = 0.1166\n",
      "FFFF efficiency = 0.1200\n",
      "BFBB efficiency = 0.1530\n",
      "FBBB efficiency = 0.1530\n",
      "BBBB efficiency = 0.2000\n",
      "AVG EFFICIENCY: 0.1137\n"
     ]
    }
   ],
   "source": [
    "averageEfficiency=0\n",
    "efficiencies={}\n",
    "for group, counts in zip(fcal_bcal_counts.index, fcal_bcal_counts.values):\n",
    "    N_bcal=sum([d==\"B\" for d in group])\n",
    "    N_fcal=4-N_bcal\n",
    "    efficiency=np.sqrt((0.03*N_fcal)**2+(0.05*N_bcal)**2)\n",
    "    averageEfficiency+=counts*efficiency\n",
    "    efficiencies[group]=efficiency\n",
    "    print(f'{group} efficiency = {efficiency:0.4f}')\n",
    "averageEfficiency/=sum(fcal_bcal_counts.values)\n",
    "print(f'AVG EFFICIENCY: {averageEfficiency:0.4f}')"
   ]
  },
  {
   "cell_type": "code",
   "execution_count": 44,
   "metadata": {},
   "outputs": [],
   "source": [
    "efficiencies=pd.Series(efficiencies)"
   ]
  },
  {
   "cell_type": "code",
   "execution_count": 62,
   "metadata": {},
   "outputs": [
    {
     "data": {
      "image/png": "[encoded data removed]",
      "text/plain": [
       "<Figure size 1152x432 with 2 Axes>"
      ]
     },
     "metadata": {
      "needs_background": "light"
     },
     "output_type": "display_data"
    }
   ],
   "source": [
    "fig,axes=plt.subplots(1,2,figsize=(16,6))\n",
    "fcal_bcal_counts.plot(kind='bar',ax=axes[0],color='tab:blue')\n",
    "axes[0].set_ylabel('Counts')\n",
    "axes[0].set_xlabel('Detector systems')\n",
    "efficiencies.plot(kind='bar',ax=axes[1],color='tab:blue')\n",
    "axes[1].set_ylabel('Inefficiency')\n",
    "axes[1].set_xlabel('Detector systems')\n",
    "plt.tight_layout()\n",
    "plt.savefig(\"/d/grid17/ln16/dselector_v3/study_pwa/mass_dependent_fits/shared_results/systematic_nominal_v9/systematic_v24/fcal_efficiency.png\")"
   ]
  },
  {
   "cell_type": "code",
   "execution_count": null,
   "metadata": {},
   "outputs": [],
   "source": []
  },
  {
   "cell_type": "code",
   "execution_count": null,
   "metadata": {},
   "outputs": [],
   "source": []
  }
 ],
 "metadata": {
  "kernelspec": {
   "display_name": "Python 3",
   "language": "python",
   "name": "python3"
  },
  "language_info": {
   "codemirror_mode": {
    "name": "ipython",
    "version": 3
   },
   "file_extension": ".py",
   "mimetype": "text/x-python",
   "name": "python",
   "nbconvert_exporter": "python",
   "pygments_lexer": "ipython3",
   "version": "3.6.8"
  }
 },
 "nbformat": 4,
 "nbformat_minor": 2
}
